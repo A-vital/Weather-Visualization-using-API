{
 "cells": [
  {
   "cell_type": "markdown",
   "metadata": {},
   "source": [
    "# WeatherPy\n",
    "----\n",
    "\n",
    "#### Note\n",
    "* Instructions have been included for each segment. You do not have to follow them exactly, but they are included to help you think through the steps."
   ]
  },
  {
   "cell_type": "code",
   "execution_count": 2,
   "metadata": {
    "scrolled": true
   },
   "outputs": [],
   "source": [
    "# Dependencies and Setup\n",
    "import matplotlib.pyplot as plt\n",
    "import pandas as pd\n",
    "import numpy as np\n",
    "import requests\n",
    "import time\n",
    "from scipy.stats import linregress\n",
    "\n",
    "# Import API key\n",
    "from api_keys import weather_api_key\n",
    "\n",
    "# Incorporated citipy to determine city based on latitude and longitude\n",
    "from citipy import citipy\n",
    "\n",
    "# Output File (CSV)\n",
    "output_data_file = \"/Users/apetek/Desktop/Github/python-api-challenge/cities.csv\"\n",
    "\n",
    "# Range of latitudes and longitudes\n",
    "lat_range = (-90, 90)\n",
    "lng_range = (-180, 180)"
   ]
  },
  {
   "cell_type": "markdown",
   "metadata": {},
   "source": [
    "## Generate Cities List"
   ]
  },
  {
   "cell_type": "code",
   "execution_count": 3,
   "metadata": {},
   "outputs": [
    {
     "data": {
      "text/plain": [
       "616"
      ]
     },
     "execution_count": 3,
     "metadata": {},
     "output_type": "execute_result"
    }
   ],
   "source": [
    "# List for holding lat_lngs and cities\n",
    "lat_lngs = []\n",
    "cities = []\n",
    "\n",
    "# Create a set of random lat and lng combinations\n",
    "lats = np.random.uniform(lat_range[0], lat_range[1], size=1500)\n",
    "lngs = np.random.uniform(lng_range[0], lng_range[1], size=1500)\n",
    "lat_lngs = zip(lats, lngs)\n",
    "\n",
    "# Identify nearest city for each lat, lng combination\n",
    "for lat_lng in lat_lngs:\n",
    "    city = citipy.nearest_city(lat_lng[0], lat_lng[1]).city_name\n",
    "    \n",
    "    # If the city is unique, then add it to a our cities list\n",
    "    if city not in cities:\n",
    "        cities.append(city)\n",
    "\n",
    "# Print the city count to confirm sufficient count\n",
    "len(cities)"
   ]
  },
  {
   "cell_type": "code",
   "execution_count": 4,
   "metadata": {},
   "outputs": [
    {
     "name": "stdout",
     "output_type": "stream",
     "text": [
      "['beboto', 'kruisfontein', 'castro', 'hobart', 'illoqqortoormiut', 'mataura', 'ancud', 'tuatapere', 'moyale', 'dingle', 'tura', 'ushuaia', 'qaanaaq', 'taltal', 'colgong', 'bilibino', 'port hardy', 'rikitea', 'san policarpo', 'jamestown', 'inhambane', 'jackson', 'tuktoyaktuk', 'yellowknife', 'anloga', 'pangnirtung', 'khatanga', 'barentsburg', 'cherskiy', 'ostrovnoy', 'bathsheba', 'albany', 'hermanus', 'solnechnyy', 'rogun', 'verkhnetulomskiy', 'hilo', 'busselton', 'sentyabrskiy', 'prince rupert', 'estelle', 'felanitx', 'camacha', 'torbay', 'bredasdorp', 'broken hill', 'dikson', 'ribeira grande', 'mozhga', 'taolanaro', 'punta arenas', 'lagoa', 'victoria', 'talbahat', 'ures', 'vaini', 'meyungs', 'amarillo', 'vaitupu', 'banda aceh', 'butaritari', 'belushya guba', 'kodiak', 'beringovskiy', 'umm ruwabah', 'carutapera', 'haines junction', 'vila franca do campo', 'atuona', 'damietta', 'airai', 'barrow', 'porto santo', 'ajdabiya', 'thompson', 'mount isa', 'hithadhoo', 'cabo san lucas', 'luderitz', 'hamilton', 'husavik', 'bluff', 'ferme-neuve', 'port elizabeth', 'shuangyang', 'sahuaripa', 'panzhihua', 'karratha', 'margate', 'rawson', 'new norfolk', 'bambous virieux', 'chuy', 'murray bridge', 'puerto ayora', 'cape town', 'nantucket', 'east london', 'camargo', 'narsaq', 'vargashi', 'ovre ardal', 'naze', 'ankang', 'marsa matruh', 'bethel', 'olafsvik', 'cidreira', 'klaksvik', 'leh', 'georgetown', 'carnarvon', 'florina', 'bollnas', 'anadyr', 'eyl', 'nikolskoye', 'grand river south east', 'yulara', 'hirara', 'russell', 'temaraia', 'palmas', 'kapaa', 'upernavik', 'aklavik', 'port augusta', 'glasgow', 'zolotinka', 'cumpas', 'augusto correa', 'serebryansk', 'roald', 'cayenne', 'whitehorse', 'fairbanks', 'mapiripan', 'saint-philippe', 'bengkulu', 'kavieng', 'westport', 'les cayes', 'bonthe', 'constantine', 'port alfred', 'rio gallegos', 'kaitangata', 'povenets', 'kasongo', 'samarai', 'sorkjosen', 'oussouye', 'mount gambier', 'mayo', 'topolovatu mare', 'asau', 'zyryanka', 'lock haven', 'buala', 'miramar', 'puerto colombia', 'ponta do sol', 'richards bay', 'chapais', 'saint-francois', 'moron', 'morro bay', 'volksrust', 'sikonge', 'raga', 'kenai', 'pisco', 'lisala', 'meulaboh', 'kualakapuas', 'podgorica', 'saskylakh', 'yeppoon', 'sitka', 'flinders', 'gardan diwal', 'mar del plata', 'ambon', 'provideniya', 'louisbourg', 'dryden', 'longyearbyen', 'goderich', 'chokurdakh', 'vardo', 'nanortalik', 'tutoia', 'saint anthony', 'lokken verk', 'tual', 'linchuan', 'phalodi', 'saint-pierre', 'sialkot', 'aykhal', 'coari', 'palmer', 'loandjili', 'leningradskiy', 'aripuana', 'sinnamary', 'abha', 'dunedin', 'mys shmidta', 'puerto escondido', 'cap malheureux', 'lerik', 'krasnoselkup', 'paamiut', 'kurumkan', 'mangrol', 'constitucion', 'amderma', 'minggang', 'port hedland', 'lebu', 'saint george', 'isangel', 'saint-leu', 'dese', 'nizhneudinsk', 'arman', 'kamenskoye', 'tasiilaq', 'sar-e pul', 'xinye', 'sao joao da barra', 'freeport', 'tevaitoa', 'tabiauea', 'rawa mazowiecka', 'launceston', 'saleaula', 'norman wells', 'gizo', 'san quintin', 'hasaki', 'gimli', 'hambantota', 'komatipoort', 'samusu', 'sinjar', 'diamantino', 'ternate', 'lavrentiya', 'ilawe', 'katherine', 'kuche', 'lumberton', 'kungurtug', 'lewistown', 'brae', 'kirakira', 'coquimbo', 'caravelas', 'poum', 'namibe', 'mikhaylovsk', 'grindavik', 'do gonbadan', 'avarua', 'buraydah', 'wenling', 'crosby', 'shimoda', 'machachi', 'nizhneyansk', 'san patricio', 'ngukurr', 'sovetskiy', 'belyy', 'shizunai', 'tempoal', 'kerrobert', 'ilinsko-podomskoye', 'vanimo', 'faya', 'san luis', 'sawakin', 'kidodi', 'staunton', 'chumikan', 'fukue', 'touros', 'vila do maio', 'san carlos', 'arraial do cabo', 'nicoya', 'attawapiskat', 'san cristobal', 'hay river', 'teya', 'timizart', 'dukat', 'ketchikan', 'winsum', 'comodoro rivadavia', 'ilek', 'duobao', 'portsmouth', 'libreville', 'lorengau', 'vostok', 'pierre', 'bacuit', 'salta', 'salalah', 'arvika', 'pevek', 'ondorhaan', 'okha', 'ahuimanu', 'nador', 'dianopolis', 'tungor', 'acapulco', 'corvallis', 'vila velha', 'kaeo', 'buariki', 'urusha', 'xining', 'vao', 'tessalit', 'marcona', 'esperance', 'boa vista', 'katsuura', 'razole', 'sosva', 'pangai', 'fortuna', 'danao', 'skagastrond', 'geraldton', 'namatanai', 'gat', 'riga', 'san ramon', 'koygorodok', 'wajir', 'kibaya', 'srednekolymsk', 'coihaique', 'dumas', 'sinjah', 'mahebourg', 'durant', 'shasta lake', 'volary', 'wakkanai', 'litovko', 'matagami', 'mogadishu', 'hefei', 'roebourne', 'lazaro cardenas', 'lata', 'booue', 'kalianget', 'barbar', 'mrirt', 'komsomolskiy', 'rudsar', 'maridi', 'caxito', 'port blair', 'la ronge', 'daru', 'crab hill', 'dutlwe', 'rey bouba', 'vaitape', 'roma', 'minsk', 'sug-aksy', 'saint-andre-les-vergers', 'virginia beach', 'kindu', 'severo-kurilsk', 'deputatskiy', 'verona', 'iqaluit', 'tumannyy', 'bosobolo', 'muroto', 'aysha', 'iquique', 'selje', 'waipawa', 'manggar', 'qaqortoq', 'kelso', 'dzhusaly', 'vestmannaeyjar', 'la paz', 'clarence town', 'ilulissat', 'buguruslan', 'bairiki', 'caborca', 'laguna', 'ebeltoft', 'benjamin hill', 'la palma', 'inirida', 'nha trang', 'vila', 'tallahassee', 'eureka', 'agadez', 'tiksi', 'half moon bay', 'ewo', 'merauke', 'nome', 'hofn', 'saryshagan', 'nelson bay', 'ozernovskiy', 'hualmay', 'monrovia', 'omsukchan', 'la rioja', 'sao francisco', 'portland', 'mitu', 'kuzhener', 'victor harbor', 'dongkan', 'lamu', 'labuan', 'mombetsu', 'puerto leguizamo', 'abbeville', 'bowen', 'negombo', 'seymchan', 'ojinaga', 'yingkou', 'ayan', 'axim', 'bouna', 'kurchum', 'te anau', 'blackfoot', 'tiznit', 'ambilobe', 'turbat', 'tomohon', 'the valley', 'souillac', 'tambacounda', 'lolua', 'junqueiro', 'verkhniye tatyshly', 'broome', 'kidal', 'saldanha', 'zhanatas', 'saquena', 'lompoc', 'melchor de mencos', 'sambava', 'snina', 'beyla', 'glendive', 'conceicao do araguaia', 'beloha', 'gerash', 'vilyuysk', 'pouebo', 'trindade', 'weihe', 'auki', 'kailua', 'kholmogory', 'ponta delgada', 'dong hoi', 'kushiro', 'harper', 'atar', 'itarema', 'mwene-ditu', 'dubovyy umet', 'xinmin', 'fairmont', 'quetigny', 'olimpia', 'marsaxlokk', 'buritizeiro', 'sao paulo de olivenca', 'vangaindrano', 'jiddah', 'guerrero negro', 'mandalgovi', 'cleethorpes', 'shache', 'luena', 'mount hagen', 'saravan', 'acarau', 'kozhva', 'marinette', 'sorvag', 'moses lake', 'road town', 'cam pha', 'kamenka', 'satitoa', 'derzhavinsk', 'hvammstangi', 'faanui', 'sept-iles', 'aracoiaba da serra', 'port macquarie', 'waingapu', 'berlevag', 'ialibu', 'trairi', 'krasnovishersk', 'bilma', 'stephenville', 'atbasar', 'tautira', 'utiroa', 'ha tinh', 'plettenberg bay', 'tasbuget', 'chanute', 'karla', 'grand gaube', 'churapcha', 'moree', 'kambia', 'davila', 'yerbogachen', 'ushtobe', 'wufeng', 'urengoy', 'mtwara', 'bogorodskoye', 'sao filipe', 'talara', 'nishihara', 'altay', 'khromtau', 'atambua', 'viborg', 'dinga', 'walvis bay', 'sungaipenuh', 'aras', 'manokwari', 'tucuman', 'umm lajj', 'havre-saint-pierre', 'hami', 'necochea', 'skeldon', 'pedreiras', 'tucumcari', 'chebsara', 'ikwiriri', 'rungata', 'mongu', 'quang ngai', 'erdenet', 'altonia', 'quelimane', 'coracao de jesus', 'porbandar', 'iskateley', 'masallatah', 'sharan', 'fuengirola', 'padang', 'abnub', 'poso', 'porto nacional', 'talnakh', 'tunxi', 'barao de melgaco', 'kalmunai', 'nyurba', 'zhigansk', 'alexandria', 'umzimvubu', 'mehamn', 'voslobeni', 'rocha', 'havoysund', 'porto seguro', 'anzio', 'bud', 'onega', 'gornozavodsk', 'goya', 'clyde river', 'alofi', 'los llanos de aridane', 'bolungarvik', 'marseille', 'praia da vitoria', 'saint-denis', 'palabuhanratu', 'burica', 'pawak', 'manyana', 'sorland', 'mineros']\n"
     ]
    }
   ],
   "source": [
    "print(cities)"
   ]
  },
  {
   "cell_type": "markdown",
   "metadata": {},
   "source": [
    "### Perform API Calls\n",
    "* Perform a weather check on each city using a series of successive API calls.\n",
    "* Include a print log of each city as it'sbeing processed (with the city number and city name).\n"
   ]
  },
  {
   "cell_type": "code",
   "execution_count": 5,
   "metadata": {},
   "outputs": [
    {
     "name": "stdout",
     "output_type": "stream",
     "text": [
      "Béboto [{'id': 804, 'main': 'Clouds', 'description': 'overcast clouds', 'icon': '04n'}] 2435837\n"
     ]
    }
   ],
   "source": [
    "counter=0\n",
    "for city in cities:\n",
    "    if counter == 1:\n",
    "        break\n",
    "    url=\"http://api.openweathermap.org/data/2.5/weather?units=Imperial&APPID=\"+weather_api_key+\"&q=\"+city\n",
    "    city=requests.get(url).json()\n",
    "    #print(city)\n",
    "    counter+=1\n",
    "    \n",
    "    name=city['name']\n",
    "    weather=city['weather']\n",
    "    idx=city['id']\n",
    "    print(name,weather,idx)"
   ]
  },
  {
   "cell_type": "code",
   "execution_count": 6,
   "metadata": {},
   "outputs": [
    {
     "name": "stdout",
     "output_type": "stream",
     "text": [
      "{'coord': {'lon': 16.939, 'lat': 8.2668}, 'weather': [{'id': 804, 'main': 'Clouds', 'description': 'overcast clouds', 'icon': '04n'}], 'base': 'stations', 'main': {'temp': 77.14, 'feels_like': 69.91, 'temp_min': 77.14, 'temp_max': 77.14, 'pressure': 1007, 'humidity': 14, 'sea_level': 1007, 'grnd_level': 958}, 'visibility': 10000, 'wind': {'speed': 4.74, 'deg': 325, 'gust': 6.4}, 'clouds': {'all': 100}, 'dt': 1614817602, 'sys': {'country': 'TD', 'sunrise': 1614834268, 'sunset': 1614877426}, 'timezone': 3600, 'id': 2435837, 'name': 'Béboto', 'cod': 200}\n",
      "{'coord': {'lon': 24.7314, 'lat': -34.0033}, 'weather': [{'id': 800, 'main': 'Clear', 'description': 'clear sky', 'icon': '01n'}], 'base': 'stations', 'main': {'temp': 63, 'feels_like': 65.82, 'temp_min': 63, 'temp_max': 63, 'pressure': 1012, 'humidity': 91}, 'visibility': 10000, 'wind': {'speed': 1.01, 'deg': 220, 'gust': 1.99}, 'clouds': {'all': 0}, 'dt': 1614817348, 'sys': {'type': 3, 'id': 2035063, 'country': 'ZA', 'sunrise': 1614831095, 'sunset': 1614876859}, 'timezone': 7200, 'id': 986717, 'name': 'Kruisfontein', 'cod': 200}\n",
      "{'coord': {'lon': -50.0119, 'lat': -24.7911}, 'weather': [{'id': 502, 'main': 'Rain', 'description': 'heavy intensity rain', 'icon': '10n'}], 'base': 'stations', 'main': {'temp': 63.73, 'feels_like': 65.28, 'temp_min': 63.73, 'temp_max': 63.73, 'pressure': 1016, 'humidity': 97, 'sea_level': 1016, 'grnd_level': 905}, 'visibility': 10000, 'wind': {'speed': 5.06, 'deg': 31, 'gust': 12.91}, 'rain': {'1h': 4.341200000000001}, 'clouds': {'all': 100}, 'dt': 1614817545, 'sys': {'country': 'BR', 'sunrise': 1614762959, 'sunset': 1614808093}, 'timezone': -10800, 'id': 3466704, 'name': 'Castro', 'cod': 200}\n",
      "{'coord': {'lon': 147.3294, 'lat': -42.8794}, 'weather': [{'id': 803, 'main': 'Clouds', 'description': 'broken clouds', 'icon': '04d'}], 'base': 'stations', 'main': {'temp': 71.6, 'feels_like': 58.53, 'temp_min': 71.6, 'temp_max': 71.6, 'pressure': 1002, 'humidity': 37}, 'visibility': 10000, 'wind': {'speed': 20.71, 'deg': 240, 'gust': 33.38}, 'clouds': {'all': 75}, 'dt': 1614817318, 'sys': {'type': 1, 'id': 9545, 'country': 'AU', 'sunrise': 1614801221, 'sunset': 1614847895}, 'timezone': 39600, 'id': 2163355, 'name': 'Hobart', 'cod': 200}\n",
      "{'cod': '404', 'message': 'city not found'}\n",
      "{'coord': {'lon': 168.8643, 'lat': -46.1927}, 'weather': [{'id': 800, 'main': 'Clear', 'description': 'clear sky', 'icon': '01d'}], 'base': 'stations', 'main': {'temp': 61, 'feels_like': 55.36, 'temp_min': 61, 'temp_max': 61, 'pressure': 998, 'humidity': 56}, 'visibility': 10000, 'wind': {'speed': 8.01, 'deg': 244, 'gust': 13}, 'clouds': {'all': 9}, 'dt': 1614817311, 'sys': {'type': 3, 'id': 2008959, 'country': 'NZ', 'sunrise': 1614795851, 'sunset': 1614842930}, 'timezone': 46800, 'id': 6201424, 'name': 'Mataura', 'cod': 200}\n",
      "{'coord': {'lon': -73.8203, 'lat': -41.8697}, 'weather': [{'id': 803, 'main': 'Clouds', 'description': 'broken clouds', 'icon': '04n'}], 'base': 'stations', 'main': {'temp': 60.37, 'feels_like': 58.21, 'temp_min': 59, 'temp_max': 62.01, 'pressure': 1019, 'humidity': 72}, 'visibility': 10000, 'wind': {'speed': 4.61, 'deg': 140}, 'clouds': {'all': 75}, 'dt': 1614817603, 'sys': {'type': 1, 'id': 8512, 'country': 'CL', 'sunrise': 1614767925, 'sunset': 1614814553}, 'timezone': -10800, 'id': 3899695, 'name': 'Ancud', 'cod': 200}\n",
      "{'coord': {'lon': 167.6833, 'lat': -46.1333}, 'weather': [{'id': 802, 'main': 'Clouds', 'description': 'scattered clouds', 'icon': '03d'}], 'base': 'stations', 'main': {'temp': 61, 'feels_like': 55.36, 'temp_min': 61, 'temp_max': 61, 'pressure': 998, 'humidity': 56}, 'visibility': 10000, 'wind': {'speed': 8.01, 'deg': 244, 'gust': 13}, 'clouds': {'all': 29}, 'dt': 1614817603, 'sys': {'type': 3, 'id': 2008959, 'country': 'NZ', 'sunrise': 1614796139, 'sunset': 1614843209}, 'timezone': 46800, 'id': 2180815, 'name': 'Tuatapere', 'cod': 200}\n",
      "{'coord': {'lon': 39.0584, 'lat': 3.5167}, 'weather': [{'id': 803, 'main': 'Clouds', 'description': 'broken clouds', 'icon': '04n'}], 'base': 'stations', 'main': {'temp': 71.62, 'feels_like': 60.17, 'temp_min': 71.62, 'temp_max': 71.62, 'pressure': 1008, 'humidity': 30, 'sea_level': 1008, 'grnd_level': 892}, 'visibility': 10000, 'wind': {'speed': 15.88, 'deg': 64, 'gust': 32.12}, 'clouds': {'all': 66}, 'dt': 1614817603, 'sys': {'country': 'KE', 'sunrise': 1614828833, 'sunset': 1614872245}, 'timezone': 10800, 'id': 186180, 'name': 'Moyale', 'cod': 200}\n",
      "{'coord': {'lon': 122.6711, 'lat': 10.9995}, 'weather': [{'id': 501, 'main': 'Rain', 'description': 'moderate rain', 'icon': '10d'}], 'base': 'stations', 'main': {'temp': 79.02, 'feels_like': 82.4, 'temp_min': 79.02, 'temp_max': 79.02, 'pressure': 1014, 'humidity': 83, 'sea_level': 1014, 'grnd_level': 1011}, 'visibility': 10000, 'wind': {'speed': 10.74, 'deg': 36}, 'rain': {'1h': 1.1988}, 'clouds': {'all': 54}, 'dt': 1614817603, 'sys': {'country': 'PH', 'sunrise': 1614808975, 'sunset': 1614851975}, 'timezone': 28800, 'id': 1714733, 'name': 'Dingle', 'cod': 200}\n",
      "{'coord': {'lon': 90.2201, 'lat': 25.5198}, 'weather': [{'id': 800, 'main': 'Clear', 'description': 'clear sky', 'icon': '01d'}], 'base': 'stations', 'main': {'temp': 62.83, 'feels_like': 56.79, 'temp_min': 62.83, 'temp_max': 62.83, 'pressure': 1011, 'humidity': 27, 'sea_level': 1011, 'grnd_level': 967}, 'visibility': 10000, 'wind': {'speed': 3.51, 'deg': 128}, 'clouds': {'all': 0}, 'dt': 1614817603, 'sys': {'country': 'IN', 'sunrise': 1614817183, 'sunset': 1614859341}, 'timezone': 19800, 'id': 1254046, 'name': 'Tura', 'cod': 200}\n",
      "{'coord': {'lon': -68.3, 'lat': -54.8}, 'weather': [{'id': 801, 'main': 'Clouds', 'description': 'few clouds', 'icon': '02n'}], 'base': 'stations', 'main': {'temp': 53.6, 'feels_like': 48.78, 'temp_min': 53.6, 'temp_max': 53.6, 'pressure': 1017, 'humidity': 54}, 'visibility': 10000, 'wind': {'speed': 3.76, 'deg': 314}, 'clouds': {'all': 20}, 'dt': 1614817603, 'sys': {'type': 1, 'id': 8303, 'country': 'AR', 'sunrise': 1614765671, 'sunset': 1614814158}, 'timezone': -10800, 'id': 3833367, 'name': 'Ushuaia', 'cod': 200}\n",
      "{'coord': {'lon': -69.3632, 'lat': 77.484}, 'weather': [{'id': 803, 'main': 'Clouds', 'description': 'broken clouds', 'icon': '04n'}], 'base': 'stations', 'main': {'temp': -21.28, 'feels_like': -32.21, 'temp_min': -21.28, 'temp_max': -21.28, 'pressure': 1025, 'humidity': 80, 'sea_level': 1025, 'grnd_level': 1021}, 'visibility': 10000, 'wind': {'speed': 7.07, 'deg': 179}, 'clouds': {'all': 62}, 'dt': 1614817353, 'sys': {'country': 'GL', 'sunrise': 1614775133, 'sunset': 1614805206}, 'timezone': -14400, 'id': 3831208, 'name': 'Qaanaaq', 'cod': 200}\n",
      "{'coord': {'lon': -70.4833, 'lat': -25.4}, 'weather': [{'id': 802, 'main': 'Clouds', 'description': 'scattered clouds', 'icon': '03n'}], 'base': 'stations', 'main': {'temp': 67.17, 'feels_like': 67.82, 'temp_min': 67.17, 'temp_max': 67.17, 'pressure': 1014, 'humidity': 78, 'sea_level': 1014, 'grnd_level': 1013}, 'visibility': 10000, 'wind': {'speed': 4.7, 'deg': 207}, 'clouds': {'all': 29}, 'dt': 1614817593, 'sys': {'country': 'CL', 'sunrise': 1614767852, 'sunset': 1614813025}, 'timezone': -10800, 'id': 3870243, 'name': 'Taltal', 'cod': 200}\n",
      "{'coord': {'lon': 87.2167, 'lat': 25.2667}, 'weather': [{'id': 800, 'main': 'Clear', 'description': 'clear sky', 'icon': '01n'}], 'base': 'stations', 'main': {'temp': 59.16, 'feels_like': 53.24, 'temp_min': 59.16, 'temp_max': 59.16, 'pressure': 1010, 'humidity': 27, 'sea_level': 1010, 'grnd_level': 1007}, 'visibility': 10000, 'wind': {'speed': 2.62, 'deg': 212, 'gust': 3.27}, 'clouds': {'all': 0}, 'dt': 1614817604, 'sys': {'country': 'IN', 'sunrise': 1614817895, 'sunset': 1614860071}, 'timezone': 19800, 'id': 1273856, 'name': 'Colgong', 'cod': 200}\n",
      "{'coord': {'lon': 166.4372, 'lat': 68.0546}, 'weather': [{'id': 600, 'main': 'Snow', 'description': 'light snow', 'icon': '13d'}], 'base': 'stations', 'main': {'temp': 3.87, 'feels_like': -11.07, 'temp_min': 3.87, 'temp_max': 3.87, 'pressure': 994, 'humidity': 88, 'sea_level': 994, 'grnd_level': 957}, 'visibility': 1111, 'wind': {'speed': 15.43, 'deg': 60}, 'snow': {'1h': 0.11}, 'clouds': {'all': 100}, 'dt': 1614817604, 'sys': {'country': 'RU', 'sunrise': 1614801781, 'sunset': 1614838164}, 'timezone': 43200, 'id': 2126682, 'name': 'Bilibino', 'cod': 200}\n",
      "{'coord': {'lon': -127.4199, 'lat': 50.6996}, 'weather': [{'id': 501, 'main': 'Rain', 'description': 'moderate rain', 'icon': '10d'}], 'base': 'stations', 'main': {'temp': 45.3, 'feels_like': 35.64, 'temp_min': 44.6, 'temp_max': 46.4, 'pressure': 1003, 'humidity': 87}, 'visibility': 10000, 'wind': {'speed': 13.8, 'deg': 120, 'gust': 20.71}, 'rain': {'1h': 1.08}, 'clouds': {'all': 90}, 'dt': 1614817604, 'sys': {'type': 1, 'id': 1011, 'country': 'CA', 'sunrise': 1614784134, 'sunset': 1614824068}, 'timezone': -28800, 'id': 6111862, 'name': 'Port Hardy', 'cod': 200}\n"
     ]
    },
    {
     "name": "stdout",
     "output_type": "stream",
     "text": [
      "{'coord': {'lon': -134.9692, 'lat': -23.1203}, 'weather': [{'id': 802, 'main': 'Clouds', 'description': 'scattered clouds', 'icon': '03d'}], 'base': 'stations', 'main': {'temp': 80.1, 'feels_like': 84.69, 'temp_min': 80.1, 'temp_max': 80.1, 'pressure': 1009, 'humidity': 81, 'sea_level': 1009, 'grnd_level': 1006}, 'visibility': 10000, 'wind': {'speed': 8.95, 'deg': 55}, 'clouds': {'all': 49}, 'dt': 1614817604, 'sys': {'country': 'PF', 'sunrise': 1614783415, 'sunset': 1614828410}, 'timezone': -32400, 'id': 4030556, 'name': 'Rikitea', 'cod': 200}\n",
      "{'coord': {'lon': 125.5072, 'lat': 12.1791}, 'weather': [{'id': 500, 'main': 'Rain', 'description': 'light rain', 'icon': '10d'}], 'base': 'stations', 'main': {'temp': 79.63, 'feels_like': 82.04, 'temp_min': 79.63, 'temp_max': 79.63, 'pressure': 1015, 'humidity': 84, 'sea_level': 1015, 'grnd_level': 1014}, 'visibility': 8962, 'wind': {'speed': 13.44, 'deg': 60, 'gust': 18.45}, 'rain': {'1h': 0.10719999999999999}, 'clouds': {'all': 48}, 'dt': 1614817604, 'sys': {'country': 'PH', 'sunrise': 1614808327, 'sunset': 1614851262}, 'timezone': 28800, 'id': 1688696, 'name': 'San Policarpo', 'cod': 200}\n",
      "{'coord': {'lon': -79.2353, 'lat': 42.097}, 'weather': [{'id': 804, 'main': 'Clouds', 'description': 'overcast clouds', 'icon': '04n'}], 'base': 'stations', 'main': {'temp': 33.51, 'feels_like': 25.93, 'temp_min': 33.01, 'temp_max': 34, 'pressure': 1012, 'humidity': 95}, 'visibility': 10000, 'wind': {'speed': 7.16, 'deg': 290}, 'clouds': {'all': 90}, 'dt': 1614817566, 'sys': {'type': 1, 'id': 4588, 'country': 'US', 'sunrise': 1614772120, 'sunset': 1614812957}, 'timezone': -18000, 'id': 5122534, 'name': 'Jamestown', 'cod': 200}\n",
      "{'coord': {'lon': 35.3833, 'lat': -23.865}, 'weather': [{'id': 802, 'main': 'Clouds', 'description': 'scattered clouds', 'icon': '03n'}], 'base': 'stations', 'main': {'temp': 73.98, 'feels_like': 78.96, 'temp_min': 73.98, 'temp_max': 73.98, 'pressure': 1009, 'humidity': 92, 'sea_level': 1009, 'grnd_level': 1008}, 'visibility': 10000, 'wind': {'speed': 6.08, 'deg': 213}, 'clouds': {'all': 41}, 'dt': 1614817570, 'sys': {'country': 'MZ', 'sunrise': 1614828919, 'sunset': 1614873923}, 'timezone': 7200, 'id': 1045114, 'name': 'Inhambane', 'cod': 200}\n",
      "{'coord': {'lon': -122.8345, 'lat': 42.4165}, 'weather': [{'id': 800, 'main': 'Clear', 'description': 'clear sky', 'icon': '01d'}], 'base': 'stations', 'main': {'temp': 65.52, 'feels_like': 57.47, 'temp_min': 64, 'temp_max': 66.99, 'pressure': 1006, 'humidity': 24}, 'visibility': 10000, 'wind': {'speed': 6.91, 'deg': 280}, 'clouds': {'all': 1}, 'dt': 1614817605, 'sys': {'type': 1, 'id': 4869, 'country': 'US', 'sunrise': 1614782587, 'sunset': 1614823415}, 'timezone': -28800, 'id': 5733351, 'name': 'Jackson', 'cod': 200}\n",
      "{'coord': {'lon': -133.0374, 'lat': 69.4541}, 'weather': [{'id': 600, 'main': 'Snow', 'description': 'light snow', 'icon': '13d'}], 'base': 'stations', 'main': {'temp': -20.2, 'feels_like': -30.41, 'temp_min': -20.2, 'temp_max': -20.2, 'pressure': 1022, 'humidity': 69}, 'visibility': 9656, 'wind': {'speed': 5.75, 'deg': 260}, 'clouds': {'all': 75}, 'dt': 1614817323, 'sys': {'type': 1, 'id': 942, 'country': 'CA', 'sunrise': 1614787568, 'sunset': 1614823330}, 'timezone': -25200, 'id': 6170031, 'name': 'Tuktoyaktuk', 'cod': 200}\n",
      "{'coord': {'lon': -114.3525, 'lat': 62.456}, 'weather': [{'id': 802, 'main': 'Clouds', 'description': 'scattered clouds', 'icon': '03d'}], 'base': 'stations', 'main': {'temp': -1.28, 'feels_like': -13.77, 'temp_min': -2.99, 'temp_max': -0.4, 'pressure': 1016, 'humidity': 65}, 'visibility': 10000, 'wind': {'speed': 10.36, 'deg': 50}, 'clouds': {'all': 40}, 'dt': 1614817385, 'sys': {'type': 1, 'id': 1007, 'country': 'CA', 'sunrise': 1614782008, 'sunset': 1614819923}, 'timezone': -25200, 'id': 6185377, 'name': 'Yellowknife', 'cod': 200}\n",
      "{'coord': {'lon': 0.8973, 'lat': 5.7947}, 'weather': [{'id': 802, 'main': 'Clouds', 'description': 'scattered clouds', 'icon': '03n'}], 'base': 'stations', 'main': {'temp': 84.2, 'feels_like': 89.15, 'temp_min': 84.2, 'temp_max': 84.2, 'pressure': 1009, 'humidity': 84}, 'visibility': 10000, 'wind': {'speed': 13.8, 'deg': 230}, 'clouds': {'all': 40}, 'dt': 1614817605, 'sys': {'type': 1, 'id': 1218, 'country': 'GH', 'sunrise': 1614838050, 'sunset': 1614881342}, 'timezone': 0, 'id': 2304548, 'name': 'Anloga', 'cod': 200}\n",
      "{'coord': {'lon': -65.7125, 'lat': 66.1451}, 'weather': [{'id': 804, 'main': 'Clouds', 'description': 'overcast clouds', 'icon': '04n'}], 'base': 'stations', 'main': {'temp': -4, 'feels_like': -14.53, 'temp_min': -4, 'temp_max': -4, 'pressure': 1029, 'humidity': 77}, 'visibility': 10000, 'wind': {'speed': 6.91, 'deg': 250}, 'clouds': {'all': 90}, 'dt': 1614817605, 'sys': {'type': 1, 'id': 968, 'country': 'CA', 'sunrise': 1614770863, 'sunset': 1614807724}, 'timezone': -18000, 'id': 6096551, 'name': 'Pangnirtung', 'cod': 200}\n",
      "{'coord': {'lon': 102.5, 'lat': 71.9667}, 'weather': [{'id': 800, 'main': 'Clear', 'description': 'clear sky', 'icon': '01n'}], 'base': 'stations', 'main': {'temp': -37.89, 'feels_like': -48.69, 'temp_min': -37.89, 'temp_max': -37.89, 'pressure': 1027, 'humidity': 78, 'sea_level': 1027, 'grnd_level': 1023}, 'visibility': 10000, 'wind': {'speed': 6.58, 'deg': 80}, 'clouds': {'all': 0}, 'dt': 1614817454, 'sys': {'country': 'RU', 'sunrise': 1614817921, 'sunset': 1614852710}, 'timezone': 25200, 'id': 2022572, 'name': 'Khatanga', 'cod': 200}\n",
      "{'cod': '404', 'message': 'city not found'}\n",
      "{'coord': {'lon': 161.3, 'lat': 68.75}, 'weather': [{'id': 600, 'main': 'Snow', 'description': 'light snow', 'icon': '13d'}], 'base': 'stations', 'main': {'temp': -8.32, 'feels_like': -21.37, 'temp_min': -8.32, 'temp_max': -8.32, 'pressure': 994, 'humidity': 90, 'sea_level': 994, 'grnd_level': 994}, 'visibility': 176, 'wind': {'speed': 11.34, 'deg': 2}, 'snow': {'1h': 0.13}, 'clouds': {'all': 100}, 'dt': 1614817356, 'sys': {'country': 'RU', 'sunrise': 1614803139, 'sunset': 1614839272}, 'timezone': 39600, 'id': 2126199, 'name': 'Cherskiy', 'cod': 200}\n",
      "{'coord': {'lon': 39.5131, 'lat': 68.0531}, 'weather': [{'id': 600, 'main': 'Snow', 'description': 'light snow', 'icon': '13n'}], 'base': 'stations', 'main': {'temp': 16.72, 'feels_like': 3.78, 'temp_min': 16.72, 'temp_max': 16.72, 'pressure': 998, 'humidity': 88, 'sea_level': 998, 'grnd_level': 995}, 'visibility': 848, 'wind': {'speed': 13.18, 'deg': 20, 'gust': 18.39}, 'snow': {'1h': 0.11}, 'clouds': {'all': 100}, 'dt': 1614817581, 'sys': {'country': 'RU', 'sunrise': 1614832154, 'sunset': 1614868706}, 'timezone': 10800, 'id': 556268, 'name': 'Ostrovnoy', 'cod': 200}\n",
      "{'coord': {'lon': -59.5167, 'lat': 13.2167}, 'weather': [{'id': 802, 'main': 'Clouds', 'description': 'scattered clouds', 'icon': '03n'}], 'base': 'stations', 'main': {'temp': 78.8, 'feels_like': 75.61, 'temp_min': 78.8, 'temp_max': 78.8, 'pressure': 1014, 'humidity': 69}, 'visibility': 10000, 'wind': {'speed': 17.27, 'deg': 90}, 'clouds': {'all': 40}, 'dt': 1614817361, 'sys': {'type': 1, 'id': 8772, 'country': 'BB', 'sunrise': 1614766379, 'sunset': 1614809235}, 'timezone': -14400, 'id': 3374083, 'name': 'Bathsheba', 'cod': 200}\n",
      "{'coord': {'lon': -73.9662, 'lat': 42.6001}, 'weather': [{'id': 804, 'main': 'Clouds', 'description': 'overcast clouds', 'icon': '04n'}], 'base': 'stations', 'main': {'temp': 36.46, 'feels_like': 27.32, 'temp_min': 34, 'temp_max': 39.2, 'pressure': 1011, 'humidity': 60}, 'visibility': 10000, 'wind': {'speed': 8.05, 'deg': 270}, 'clouds': {'all': 90}, 'dt': 1614817606, 'sys': {'type': 1, 'id': 3273, 'country': 'US', 'sunrise': 1614770880, 'sunset': 1614811668}, 'timezone': -18000, 'id': 5106841, 'name': 'Albany', 'cod': 200}\n",
      "{'coord': {'lon': 19.2345, 'lat': -34.4187}, 'weather': [{'id': 804, 'main': 'Clouds', 'description': 'overcast clouds', 'icon': '04n'}], 'base': 'stations', 'main': {'temp': 66.99, 'feels_like': 67.28, 'temp_min': 66.99, 'temp_max': 66.99, 'pressure': 1013, 'humidity': 89}, 'visibility': 10000, 'wind': {'speed': 7.85, 'deg': 152}, 'clouds': {'all': 95}, 'dt': 1614817606, 'sys': {'type': 3, 'id': 2006131, 'country': 'ZA', 'sunrise': 1614832398, 'sunset': 1614878194}, 'timezone': 7200, 'id': 3366880, 'name': 'Hermanus', 'cod': 200}\n"
     ]
    },
    {
     "name": "stdout",
     "output_type": "stream",
     "text": [
      "{'coord': {'lon': 136.6319, 'lat': 50.7214}, 'weather': [{'id': 804, 'main': 'Clouds', 'description': 'overcast clouds', 'icon': '04d'}], 'base': 'stations', 'main': {'temp': 13.6, 'feels_like': 4.71, 'temp_min': 13.6, 'temp_max': 13.6, 'pressure': 1011, 'humidity': 92, 'sea_level': 1011, 'grnd_level': 975}, 'visibility': 10000, 'wind': {'speed': 5.73, 'deg': 180}, 'clouds': {'all': 97}, 'dt': 1614817606, 'sys': {'country': 'RU', 'sunrise': 1614807129, 'sunset': 1614847121}, 'timezone': 36000, 'id': 2016307, 'name': 'Solnechnyy', 'cod': 200}\n",
      "{'cod': '404', 'message': 'city not found'}\n",
      "{'coord': {'lon': 31.7962, 'lat': 68.6073}, 'weather': [{'id': 600, 'main': 'Snow', 'description': 'light snow', 'icon': '13n'}], 'base': 'stations', 'main': {'temp': 19.4, 'feels_like': 10.42, 'temp_min': 19.4, 'temp_max': 19.4, 'pressure': 997, 'humidity': 93}, 'visibility': 7000, 'wind': {'speed': 6.71, 'deg': 260}, 'clouds': {'all': 75}, 'dt': 1614817606, 'sys': {'type': 1, 'id': 8927, 'country': 'RU', 'sunrise': 1614834100, 'sunset': 1614870464}, 'timezone': 10800, 'id': 475469, 'name': 'Verkhnetulomskiy', 'cod': 200}\n",
      "{'coord': {'lon': -155.09, 'lat': 19.7297}, 'weather': [{'id': 800, 'main': 'Clear', 'description': 'clear sky', 'icon': '01d'}], 'base': 'stations', 'main': {'temp': 74.35, 'feels_like': 68.23, 'temp_min': 70, 'temp_max': 78.8, 'pressure': 1018, 'humidity': 44}, 'visibility': 10000, 'wind': {'speed': 11.5, 'deg': 20}, 'clouds': {'all': 1}, 'dt': 1614817392, 'sys': {'type': 1, 'id': 7881, 'country': 'US', 'sunrise': 1614789496, 'sunset': 1614831985}, 'timezone': -36000, 'id': 5855927, 'name': 'Hilo', 'cod': 200}\n",
      "{'coord': {'lon': 115.3333, 'lat': -33.65}, 'weather': [{'id': 500, 'main': 'Rain', 'description': 'light rain', 'icon': '10d'}], 'base': 'stations', 'main': {'temp': 67.37, 'feels_like': 71.1, 'temp_min': 66.99, 'temp_max': 68, 'pressure': 1008, 'humidity': 93}, 'visibility': 10000, 'wind': {'speed': 3, 'deg': 29, 'gust': 10}, 'rain': {'1h': 0.14}, 'clouds': {'all': 96}, 'dt': 1614817606, 'sys': {'type': 3, 'id': 2008303, 'country': 'AU', 'sunrise': 1614809353, 'sunset': 1614855119}, 'timezone': 28800, 'id': 2075265, 'name': 'Busselton', 'cod': 200}\n",
      "{'cod': '404', 'message': 'city not found'}\n",
      "{'coord': {'lon': -130.3201, 'lat': 54.3161}, 'weather': [{'id': 500, 'main': 'Rain', 'description': 'light rain', 'icon': '10d'}], 'base': 'stations', 'main': {'temp': 39.78, 'feels_like': 31.03, 'temp_min': 39.2, 'temp_max': 41, 'pressure': 995, 'humidity': 87}, 'visibility': 10000, 'wind': {'speed': 10.36, 'deg': 120, 'gust': 17.27}, 'rain': {'1h': 0.51}, 'clouds': {'all': 90}, 'dt': 1614817437, 'sys': {'type': 1, 'id': 883, 'country': 'CA', 'sunrise': 1614785076, 'sunset': 1614824518}, 'timezone': -28800, 'id': 6113406, 'name': 'Prince Rupert', 'cod': 200}\n"
     ]
    }
   ],
   "source": [
    "#create empty list\n",
    "city_data=[]\n",
    "for c in cities[:40]:\n",
    "# Parse the JSON and retrieve data\n",
    "    url=\"http://api.openweathermap.org/data/2.5/weather?units=Imperial&APPID=\"+weather_api_key+\"&q=\"+c\n",
    "    city_weather = requests.get(url)\n",
    "    city_weather = city_weather.json()\n",
    "    print(city_weather)\n",
    "    \n",
    "\n",
    "    if city_weather['cod']==200:\n",
    "        # Parse out the max temp, humidity, and cloudiness\n",
    "        city_lat = city_weather[\"coord\"][\"lat\"]\n",
    "        city_lng = city_weather[\"coord\"][\"lon\"]\n",
    "        city_max_temp = city_weather[\"main\"][\"temp_max\"]\n",
    "        city_humidity = city_weather[\"main\"][\"humidity\"]\n",
    "        city_clouds = city_weather[\"clouds\"][\"all\"]\n",
    "        city_wind = city_weather[\"wind\"][\"speed\"]\n",
    "        city_country = city_weather[\"sys\"][\"country\"]\n",
    "        city_date = city_weather[\"dt\"]\n",
    "        # Append the City information into city_data list\n",
    "        city_data.append({\"City\":city_weather['name'],\n",
    "                          \"Lat\": city_lat,\n",
    "                          \"Lng\": city_lng,\n",
    "                          \"Max Temp\": city_max_temp,\n",
    "                          \"Humidity\": city_humidity,\n",
    "                          \"Cloudiness\": city_clouds,\n",
    "                          \"Wind Speed\": city_wind,\n",
    "                          \"Country\": city_country,\n",
    "                          \"Date\": city_date})"
   ]
  },
  {
   "cell_type": "code",
   "execution_count": 8,
   "metadata": {
    "scrolled": true
   },
   "outputs": [],
   "source": [
    "weather_df=pd.DataFrame(city_data)\n",
    "weather_df.to_csv(output_data_file, index=False)"
   ]
  },
  {
   "cell_type": "markdown",
   "metadata": {},
   "source": [
    "### Convert Raw Data to DataFrame\n",
    "* Export the city data into a .csv.\n",
    "* Display the DataFrame"
   ]
  },
  {
   "cell_type": "code",
   "execution_count": null,
   "metadata": {},
   "outputs": [],
   "source": []
  },
  {
   "cell_type": "code",
   "execution_count": null,
   "metadata": {},
   "outputs": [],
   "source": []
  },
  {
   "cell_type": "markdown",
   "metadata": {},
   "source": [
    "## Inspect the data and remove the cities where the humidity > 100%.\n",
    "----\n",
    "Skip this step if there are no cities that have humidity > 100%. "
   ]
  },
  {
   "cell_type": "code",
   "execution_count": 9,
   "metadata": {},
   "outputs": [
    {
     "data": {
      "text/html": [
       "<div>\n",
       "<style scoped>\n",
       "    .dataframe tbody tr th:only-of-type {\n",
       "        vertical-align: middle;\n",
       "    }\n",
       "\n",
       "    .dataframe tbody tr th {\n",
       "        vertical-align: top;\n",
       "    }\n",
       "\n",
       "    .dataframe thead th {\n",
       "        text-align: right;\n",
       "    }\n",
       "</style>\n",
       "<table border=\"1\" class=\"dataframe\">\n",
       "  <thead>\n",
       "    <tr style=\"text-align: right;\">\n",
       "      <th></th>\n",
       "      <th>City</th>\n",
       "      <th>Cloudiness</th>\n",
       "      <th>Country</th>\n",
       "      <th>Date</th>\n",
       "      <th>Humidity</th>\n",
       "      <th>Lat</th>\n",
       "      <th>Lng</th>\n",
       "      <th>Max Temp</th>\n",
       "      <th>Wind Speed</th>\n",
       "    </tr>\n",
       "  </thead>\n",
       "  <tbody>\n",
       "  </tbody>\n",
       "</table>\n",
       "</div>"
      ],
      "text/plain": [
       "Empty DataFrame\n",
       "Columns: [City, Cloudiness, Country, Date, Humidity, Lat, Lng, Max Temp, Wind Speed]\n",
       "Index: []"
      ]
     },
     "execution_count": 9,
     "metadata": {},
     "output_type": "execute_result"
    }
   ],
   "source": [
    "#  Get the indices of cities that have humidity over 100%.\n",
    "weather_df[weather_df['Humidity']>100]"
   ]
  },
  {
   "cell_type": "code",
   "execution_count": null,
   "metadata": {},
   "outputs": [],
   "source": [
    "#  Get the indices of cities that have humidity over 100%.\n"
   ]
  },
  {
   "cell_type": "code",
   "execution_count": null,
   "metadata": {},
   "outputs": [],
   "source": [
    "# Make a new DataFrame equal to the city data to drop all humidity outliers by index.\n",
    "# Passing \"inplace=False\" will make a copy of the city_data DataFrame, which we call \"clean_city_data\".\n"
   ]
  },
  {
   "cell_type": "code",
   "execution_count": null,
   "metadata": {},
   "outputs": [],
   "source": [
    "\n"
   ]
  },
  {
   "cell_type": "markdown",
   "metadata": {},
   "source": [
    "## Plotting the Data\n",
    "* Use proper labeling of the plots using plot titles (including date of analysis) and axes labels.\n",
    "* Save the plotted figures as .pngs."
   ]
  },
  {
   "cell_type": "markdown",
   "metadata": {},
   "source": [
    "## Latitude vs. Temperature Plot"
   ]
  },
  {
   "cell_type": "code",
   "execution_count": 10,
   "metadata": {
    "scrolled": true
   },
   "outputs": [
    {
     "data": {
      "image/png": "[encoded data removed]",
      "text/plain": [
       "<Figure size 432x288 with 1 Axes>"
      ]
     },
     "metadata": {},
     "output_type": "display_data"
    }
   ],
   "source": [
    "plt.scatter(weather_df[\"Lat\"], weather_df[\"Max Temp\"], marker=\"o\")\n",
    "plt.title(\"Latitude vs. Temperature Plot\")\n",
    "plt.ylabel(\"Max Temp\")\n",
    "plt.xlabel(\"Lat\")\n",
    "plt.grid(True)\n",
    "plt.show()"
   ]
  },
  {
   "cell_type": "markdown",
   "metadata": {},
   "source": [
    "## Latitude vs. Humidity Plot"
   ]
  },
  {
   "cell_type": "code",
   "execution_count": 11,
   "metadata": {},
   "outputs": [
    {
     "data": {
      "image/png": "[encoded data removed]",
      "text/plain": [
       "<Figure size 432x288 with 1 Axes>"
      ]
     },
     "metadata": {},
     "output_type": "display_data"
    }
   ],
   "source": [
    "plt.scatter(weather_df[\"Lat\"], weather_df[\"Humidity\"], marker=\"o\")\n",
    "plt.title(\"Latitude vs. Humidity Plot\")\n",
    "plt.ylabel(\"Humidity\")\n",
    "plt.xlabel(\"Lat\")\n",
    "plt.grid(True)\n",
    "plt.show()"
   ]
  },
  {
   "cell_type": "markdown",
   "metadata": {},
   "source": [
    "## Latitude vs. Cloudiness Plot"
   ]
  },
  {
   "cell_type": "code",
   "execution_count": 12,
   "metadata": {},
   "outputs": [
    {
     "data": {
      "image/png": "[encoded data removed]",
      "text/plain": [
       "<Figure size 432x288 with 1 Axes>"
      ]
     },
     "metadata": {},
     "output_type": "display_data"
    }
   ],
   "source": [
    "plt.scatter(weather_df[\"Lat\"], weather_df[\"Cloudiness\"], marker=\"o\")\n",
    "plt.title(\"Latitude vs. Cloudiness Plot\")\n",
    "plt.ylabel(\"Cloudiness\")\n",
    "plt.xlabel(\"Lat\")\n",
    "plt.grid(True)\n",
    "plt.show()"
   ]
  },
  {
   "cell_type": "markdown",
   "metadata": {},
   "source": [
    "## Latitude vs. Wind Speed Plot"
   ]
  },
  {
   "cell_type": "code",
   "execution_count": 13,
   "metadata": {},
   "outputs": [
    {
     "data": {
      "image/png": "[encoded data removed]",
      "text/plain": [
       "<Figure size 432x288 with 1 Axes>"
      ]
     },
     "metadata": {},
     "output_type": "display_data"
    }
   ],
   "source": [
    "plt.scatter(weather_df[\"Lat\"], weather_df[\"Wind Speed\"], marker=\"o\")\n",
    "plt.title(\"Latitude vs. Wind Speed Plot\")\n",
    "plt.ylabel(\"Wind Speed\")\n",
    "plt.xlabel(\"Lat\")\n",
    "plt.grid(True)\n",
    "plt.show()"
   ]
  },
  {
   "cell_type": "markdown",
   "metadata": {},
   "source": [
    "## Linear Regression"
   ]
  },
  {
   "cell_type": "code",
   "execution_count": null,
   "metadata": {},
   "outputs": [],
   "source": []
  },
  {
   "cell_type": "markdown",
   "metadata": {},
   "source": [
    "####  Northern Hemisphere - Max Temp vs. Latitude Linear Regression"
   ]
  },
  {
   "cell_type": "code",
   "execution_count": null,
   "metadata": {},
   "outputs": [],
   "source": []
  },
  {
   "cell_type": "markdown",
   "metadata": {},
   "source": [
    "####  Southern Hemisphere - Max Temp vs. Latitude Linear Regression"
   ]
  },
  {
   "cell_type": "code",
   "execution_count": null,
   "metadata": {},
   "outputs": [],
   "source": []
  },
  {
   "cell_type": "markdown",
   "metadata": {},
   "source": [
    "####  Northern Hemisphere - Humidity (%) vs. Latitude Linear Regression"
   ]
  },
  {
   "cell_type": "code",
   "execution_count": null,
   "metadata": {},
   "outputs": [],
   "source": []
  },
  {
   "cell_type": "markdown",
   "metadata": {},
   "source": [
    "####  Southern Hemisphere - Humidity (%) vs. Latitude Linear Regression"
   ]
  },
  {
   "cell_type": "code",
   "execution_count": null,
   "metadata": {},
   "outputs": [],
   "source": []
  },
  {
   "cell_type": "markdown",
   "metadata": {},
   "source": [
    "####  Northern Hemisphere - Cloudiness (%) vs. Latitude Linear Regression"
   ]
  },
  {
   "cell_type": "code",
   "execution_count": null,
   "metadata": {},
   "outputs": [],
   "source": []
  },
  {
   "cell_type": "markdown",
   "metadata": {},
   "source": [
    "####  Southern Hemisphere - Cloudiness (%) vs. Latitude Linear Regression"
   ]
  },
  {
   "cell_type": "code",
   "execution_count": null,
   "metadata": {},
   "outputs": [],
   "source": []
  },
  {
   "cell_type": "markdown",
   "metadata": {},
   "source": [
    "####  Northern Hemisphere - Wind Speed (mph) vs. Latitude Linear Regression"
   ]
  },
  {
   "cell_type": "code",
   "execution_count": null,
   "metadata": {},
   "outputs": [],
   "source": []
  },
  {
   "cell_type": "markdown",
   "metadata": {},
   "source": [
    "####  Southern Hemisphere - Wind Speed (mph) vs. Latitude Linear Regression"
   ]
  },
  {
   "cell_type": "code",
   "execution_count": null,
   "metadata": {},
   "outputs": [],
   "source": []
  },
  {
   "cell_type": "code",
   "execution_count": null,
   "metadata": {},
   "outputs": [],
   "source": []
  }
 ],
 "metadata": {
  "anaconda-cloud": {},
  "kernel_info": {
   "name": "python3"
  },
  "kernelspec": {
   "display_name": "Python 3",
   "language": "python",
   "name": "python3"
  },
  "language_info": {
   "codemirror_mode": {
    "name": "ipython",
    "version": 3
   },
   "file_extension": ".py",
   "mimetype": "text/x-python",
   "name": "python",
   "nbconvert_exporter": "python",
   "pygments_lexer": "ipython3",
   "version": "3.6.5"
  },
  "latex_envs": {
   "LaTeX_envs_menu_present": true,
   "autoclose": false,
   "autocomplete": true,
   "bibliofile": "biblio.bib",
   "cite_by": "apalike",
   "current_citInitial": 1,
   "eqLabelWithNumbers": true,
   "eqNumInitial": 1,
   "hotkeys": {
    "equation": "Ctrl-E",
    "itemize": "Ctrl-I"
   },
   "labels_anchors": false,
   "latex_user_defs": false,
   "report_style_numbering": false,
   "user_envs_cfg": false
  },
  "nteract": {
   "version": "0.12.3"
  }
 },
 "nbformat": 4,
 "nbformat_minor": 2
}
